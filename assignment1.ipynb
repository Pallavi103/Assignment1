{
 "cells": [
  {
   "cell_type": "code",
   "execution_count": 2,
   "id": "8687a532",
   "metadata": {},
   "outputs": [
    {
     "name": "stdout",
     "output_type": "stream",
     "text": [
      "The String Variable is s= Pallavi\n",
      "The list Variable is s1= [1, 2, 4, 6, 8]\n",
      "The float Variable is s2= 15.5\n",
      "The tuple Variable is s3= (1, 3, 5)\n"
     ]
    }
   ],
   "source": [
    "# Q1. Create one variable containing following type of data:\n",
    "# (i) string\n",
    "# (ii) list\n",
    "# (iii) float\n",
    "# (iv) tuple\n",
    "\n",
    "s='Pallavi'\n",
    "s1=[1,2,4,6,8]\n",
    "s2=15.5\n",
    "s3=(1,3,5)\n",
    "\n",
    "print(f'The String Variable is s= {s}')\n",
    "print(f'The list Variable is s1= {s1}')\n",
    "print(f'The float Variable is s2= {s2}')\n",
    "print(f'The tuple Variable is s3= {s3}')"
   ]
  },
  {
   "cell_type": "code",
   "execution_count": 11,
   "id": "962d3379",
   "metadata": {},
   "outputs": [
    {
     "name": "stdout",
     "output_type": "stream",
     "text": [
      "<class 'str'>\n",
      "<class 'str'>\n",
      "<class 'list'>\n",
      "<class 'int'>\n"
     ]
    }
   ],
   "source": [
    "# Q2. Given are some following variables containing data:\n",
    "# (i) var1 = ‘ ‘\n",
    "# (ii) var2 = ‘[ DS , ML , Python]’\n",
    "# (iii) var3 = [ ‘DS’ , ’ML’ , ‘Python’ ]\n",
    "# (iv) var4 = 1.\n",
    "# What will be the data type of the above given variable.\n",
    "\n",
    "var1 = ''\n",
    "var2 = '[ DS , ML , Python]'\n",
    "var3 = [ 'DS' , 'ML' , 'Python' ]\n",
    "var4 = 1\n",
    "\n",
    "#print('Datatype of var1 is=')\n",
    "print(type(var1))   \n",
    "print(type(var2))   \n",
    "print(type(var3))\n",
    "print(type(var4))"
   ]
  },
  {
   "cell_type": "code",
   "execution_count": 5,
   "id": "6024e48b",
   "metadata": {},
   "outputs": [
    {
     "name": "stdout",
     "output_type": "stream",
     "text": [
      "Output of Division Operator is= 15.0\n",
      "Output of Modulo Operator is= 0\n",
      "Output of Floor Division Operator is= 7\n",
      "Output of Exponentiation Operator is= 8\n"
     ]
    }
   ],
   "source": [
    "# Q3. Explain the use of the following operators using an example:\n",
    "# (i) /  \n",
    "# (ii) %\n",
    "# (iii) //\n",
    "# (iv) **\n",
    "\n",
    "#i./ (Division Operator)\n",
    "a=30\n",
    "b=2\n",
    "Result1=a/b\n",
    "print('Output of Division Operator is=',Result1)\n",
    "\n",
    "\n",
    "#ii.% (Modulo Operator)\n",
    "a=30\n",
    "b=2\n",
    "Result2=a%b\n",
    "print('Output of Modulo Operator is=',Result2)\n",
    "\n",
    "\n",
    "#iii.// (Floor Division Operator)\n",
    "a=30\n",
    "b=4\n",
    "Result3=a//b\n",
    "print('Output of Floor Division Operator is=',Result3)\n",
    "\n",
    "\n",
    "#iv.** (Exponentiation Operator)\n",
    "a=2\n",
    "b=3\n",
    "Result4=a**b\n",
    "print('Output of Exponentiation Operator is=',Result4)"
   ]
  },
  {
   "cell_type": "code",
   "execution_count": 6,
   "id": "71a7ddb7",
   "metadata": {},
   "outputs": [
    {
     "name": "stdout",
     "output_type": "stream",
     "text": [
      "Element: 10 Data Type: <class 'int'>\n",
      "Element: Pallavi Data Type: <class 'str'>\n",
      "Element: 3.14 Data Type: <class 'float'>\n",
      "Element: True Data Type: <class 'bool'>\n",
      "Element: [1, 2, 3] Data Type: <class 'list'>\n",
      "Element: {'name': 'Pallavi'} Data Type: <class 'dict'>\n",
      "Element: (1, 2, 3) Data Type: <class 'tuple'>\n",
      "Element: None Data Type: <class 'NoneType'>\n",
      "Element: OpenAI Data Type: <class 'str'>\n",
      "Element: 5.0 Data Type: <class 'float'>\n"
     ]
    }
   ],
   "source": [
    "# Q4. Create a list of length 10 of your choice containing multiple types of data. Using for loop print the \n",
    "#element and its data type.\n",
    "\n",
    "my_list = [10, 'Pallavi', 3.14, True, [1, 2, 3], {'name': 'Pallavi'}, (1, 2, 3), None, 'Jadhav', 5.0]\n",
    "\n",
    "for element in my_list:\n",
    "    print(\"Element:\", element, \"Data Type:\", type(element))\n"
   ]
  },
  {
   "cell_type": "code",
   "execution_count": 8,
   "id": "f420b26e",
   "metadata": {},
   "outputs": [
    {
     "name": "stdout",
     "output_type": "stream",
     "text": [
      "Number of times 4 can divide into 35 is 0\n"
     ]
    }
   ],
   "source": [
    "# Q5. Using a while loop, verify if the number A is purely divisible by number B and if so then how many\n",
    "# times it can be divisible.\n",
    "\n",
    "A=35\n",
    "B=4\n",
    "count=0\n",
    "\n",
    "while A%B==0:\n",
    "    A=A//B\n",
    "    count=count+1\n",
    "\n",
    "print(\"Number of times\", B, \"can divide into\", A, \"is\", count)\n"
   ]
  },
  {
   "cell_type": "code",
   "execution_count": 9,
   "id": "fa4e5014",
   "metadata": {},
   "outputs": [
    {
     "name": "stdout",
     "output_type": "stream",
     "text": [
      "11 is not divisible by 3\n",
      "6 is divisible by 3\n",
      "24 is divisible by 3\n",
      "18 is divisible by 3\n",
      "9 is divisible by 3\n",
      "7 is not divisible by 3\n",
      "15 is divisible by 3\n",
      "4 is not divisible by 3\n",
      "21 is divisible by 3\n",
      "12 is divisible by 3\n",
      "8 is not divisible by 3\n",
      "3 is divisible by 3\n",
      "17 is not divisible by 3\n",
      "5 is not divisible by 3\n",
      "10 is not divisible by 3\n",
      "30 is divisible by 3\n",
      "13 is not divisible by 3\n",
      "22 is not divisible by 3\n",
      "27 is divisible by 3\n",
      "16 is not divisible by 3\n",
      "19 is not divisible by 3\n",
      "1 is not divisible by 3\n",
      "14 is not divisible by 3\n",
      "20 is not divisible by 3\n",
      "25 is not divisible by 3\n"
     ]
    }
   ],
   "source": [
    "# Q6. Create a list containing 25 int type data. Using for loop and if-else condition print if the element is\n",
    "# divisible by 3 or not.\n",
    "\n",
    "my_list = [11, 6, 24, 18, 9, 7, 15, 4, 21, 12, 8, 3, 17, 5, 10, 30, 13, 22, 27, 16, 19, 1, 14, 20, 25]\n",
    "\n",
    "for element in my_list:\n",
    "    if element % 3 == 0:\n",
    "        print(element, \"is divisible by 3\")\n",
    "    else:\n",
    "        print(element, \"is not divisible by 3\")\n"
   ]
  },
  {
   "cell_type": "code",
   "execution_count": 10,
   "id": "090d2a67",
   "metadata": {},
   "outputs": [
    {
     "name": "stdout",
     "output_type": "stream",
     "text": [
      "[1, 2, 3, 4]\n",
      "{1, 2, 3, 4}\n",
      "{'name': 'John', 'age': 26}\n"
     ]
    },
    {
     "ename": "TypeError",
     "evalue": "'str' object does not support item assignment",
     "output_type": "error",
     "traceback": [
      "\u001b[1;31m---------------------------------------------------------------------------\u001b[0m",
      "\u001b[1;31mTypeError\u001b[0m                                 Traceback (most recent call last)",
      "Cell \u001b[1;32mIn[10], line 33\u001b[0m\n\u001b[0;32m     24\u001b[0m \u001b[38;5;66;03m# Immutable Data Types:\u001b[39;00m\n\u001b[0;32m     25\u001b[0m \u001b[38;5;66;03m# Immutable data types, on the other hand, are those that cannot be changed or modified once they are created. \u001b[39;00m\n\u001b[0;32m     26\u001b[0m \n\u001b[0;32m     27\u001b[0m \u001b[38;5;66;03m# Strings: Strings are immutable, meaning their individual characters cannot be changed.\u001b[39;00m\n\u001b[0;32m     28\u001b[0m \u001b[38;5;66;03m# Tuples: Tuples are immutable, so you cannot modify their elements once they are assigned.\u001b[39;00m\n\u001b[0;32m     29\u001b[0m \u001b[38;5;66;03m# Example:\u001b[39;00m\n\u001b[0;32m     32\u001b[0m my_string \u001b[38;5;241m=\u001b[39m \u001b[38;5;124m\"\u001b[39m\u001b[38;5;124mHello\u001b[39m\u001b[38;5;124m\"\u001b[39m\n\u001b[1;32m---> 33\u001b[0m \u001b[43mmy_string\u001b[49m\u001b[43m[\u001b[49m\u001b[38;5;241;43m0\u001b[39;49m\u001b[43m]\u001b[49m \u001b[38;5;241m=\u001b[39m \u001b[38;5;124m'\u001b[39m\u001b[38;5;124mJ\u001b[39m\u001b[38;5;124m'\u001b[39m \n\u001b[0;32m     35\u001b[0m my_tuple \u001b[38;5;241m=\u001b[39m (\u001b[38;5;241m1\u001b[39m, \u001b[38;5;241m2\u001b[39m, \u001b[38;5;241m3\u001b[39m)\n\u001b[0;32m     36\u001b[0m my_tuple[\u001b[38;5;241m0\u001b[39m] \u001b[38;5;241m=\u001b[39m \u001b[38;5;241m4\u001b[39m  \n",
      "\u001b[1;31mTypeError\u001b[0m: 'str' object does not support item assignment"
     ]
    }
   ],
   "source": [
    "# Q7. What do you understand about mutable and immutable data types? Give examples for both showing\n",
    "# this property.\n",
    "\n",
    "# Mutable Data Types:\n",
    "# It means that you can update, add, or remove elements within these data types without creating a new instance. Some examples of mutable data types in Python are:\n",
    "\n",
    "# Lists: Lists can be modified by adding or removing elements.\n",
    "# Sets: Sets can be modified by adding or removing elements.\n",
    "# Dictionaries: Dictionaries can be modified by adding, updating, or deleting key-value pairs.\n",
    "# Example:\n",
    "\n",
    "my_list = [1, 2, 3]\n",
    "my_list.append(4) \n",
    "print(my_list)  \n",
    "\n",
    "my_set = {1, 2, 3}\n",
    "my_set.add(4)  \n",
    "print(my_set) \n",
    "\n",
    "my_dict = {'name': 'John', 'age': 25}\n",
    "my_dict['age'] = 26  \n",
    "print(my_dict)\n",
    "\n",
    "# Immutable Data Types:\n",
    "# Immutable data types, on the other hand, are those that cannot be changed or modified once they are created. \n",
    "\n",
    "# Strings: Strings are immutable, meaning their individual characters cannot be changed.\n",
    "# Tuples: Tuples are immutable, so you cannot modify their elements once they are assigned.\n",
    "# Example:\n",
    "\n",
    "\n",
    "my_string = \"Hello\"\n",
    "my_string[0] = 'J' \n",
    "\n",
    "my_tuple = (1, 2, 3)\n",
    "my_tuple[0] = 4  "
   ]
  },
  {
   "cell_type": "code",
   "execution_count": null,
   "id": "0e6ae62f",
   "metadata": {},
   "outputs": [],
   "source": []
  }
 ],
 "metadata": {
  "kernelspec": {
   "display_name": "Python 3 (ipykernel)",
   "language": "python",
   "name": "python3"
  },
  "language_info": {
   "codemirror_mode": {
    "name": "ipython",
    "version": 3
   },
   "file_extension": ".py",
   "mimetype": "text/x-python",
   "name": "python",
   "nbconvert_exporter": "python",
   "pygments_lexer": "ipython3",
   "version": "3.11.2"
  }
 },
 "nbformat": 4,
 "nbformat_minor": 5
}
